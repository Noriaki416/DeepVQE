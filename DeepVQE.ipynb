{
 "cells": [
  {
   "cell_type": "markdown",
   "metadata": {},
   "source": [
    "# Deep VQE\n",
    "https://arxiv.org/abs/2007.10917"
   ]
  },
  {
   "cell_type": "code",
   "execution_count": 1,
   "metadata": {},
   "outputs": [],
   "source": [
    "from qulacs import Observable\n",
    "from qulacs import QuantumState, QuantumCircuit\n",
    "from qulacs.gate import RX, RZ, RY, CNOT, X, Y, Z, CZ\n",
    "from scipy.optimize import minimize\n",
    "import numpy as np\n",
    "import matplotlib.pyplot as plt\n",
    "%matplotlib inline\n",
    "import time"
   ]
  },
  {
   "cell_type": "markdown",
   "metadata": {},
   "source": [
    "# ハミルトニアン (N=2)\n",
    "\n",
    "![hamiltonian(3a,N=2)](./Figures/3a_N2.png)\n",
    "\n",
    "\\begin{align}\n",
    "\\mathcal{H} = \\sum^{1}_{i=0}\\mathcal{H}_i + \\sum_{(i, j)=(2, 4), (0, 6)}V_{ij}\n",
    "\\end{align}\n",
    "\n",
    "\\begin{align}\n",
    "\\mathcal{H}_i &= \\sum_{(j, k) \\in E}\\sum_{A=X,Y,Z}A_{j}A_{k} \\\\\n",
    "V_{ij} &= \\sum_{A=X,Y,Z}A_{i}A_{j}\n",
    "\\end{align}\n",
    "\n",
    "上の図で黒い線で繋がった格子が部分系$\\mathcal{H}_i$で赤い線が相互作用$V_{ij}$をそれぞれ表している。  \n",
    "対称性より$\\mathcal{H}_i$の基底状態の計算はどちらか片方だけを行えば良い。  "
   ]
  },
  {
   "cell_type": "markdown",
   "metadata": {},
   "source": [
    "局所基底には\n",
    "\\begin{align}\n",
    "\\def\\ket#1{\\mathinner{\\left|{#1}\\right\\rangle}}\n",
    "\\ket{\\psi^{(i)}_0}, A^{(i)}_0\\ket{\\psi^{(i)}_0}, A^{(i)}_2\\ket{\\psi^{(i)}_0},\n",
    "\\end{align}\n",
    "の全部で$K=7$を用いる。  \n",
    "また$A^{(i)}_0$は部分系$i$で0番目の量子ビットを意味する。  "
   ]
  },
  {
   "cell_type": "markdown",
   "metadata": {},
   "source": [
    "### make_Pauli_string (Pauli_stringを生成するための関数)\n",
    "演算子の種類が格納された`op_list`と対応するビットが格納された`var_list`から`Pauli_string`を生成する。  \n",
    "例：`op_list=[1, 2]`, `var_list=[0, 1]`から`X 0 Y 1`を生成する。\n",
    "\n",
    "- 0: 恒等演算子\n",
    "- 1: X\n",
    "- 2: Y\n",
    "- 3: Z"
   ]
  },
  {
   "cell_type": "code",
   "execution_count": 2,
   "metadata": {},
   "outputs": [],
   "source": [
    "operator = {}\n",
    "operator[0] = \"I\"\n",
    "operator[1] = \"X\"\n",
    "operator[2] = \"Y\"\n",
    "operator[3] = \"Z\"\n",
    "\n",
    "def make_Pauli_string(op_list, var_list):\n",
    "    if sum(op_list) == 0:\n",
    "        Pauli_string = \"I 0\"\n",
    "    else:\n",
    "        Pauli_string = \"\"\n",
    "        c = 0\n",
    "        for i in range(len(var_list)):\n",
    "            if op_list[i] > 0:\n",
    "                if c == 0:\n",
    "                    Pauli_string += \"{} {}\".format(operator[op_list[i]], var_list[i])\n",
    "                    c += 1\n",
    "                else:\n",
    "                    Pauli_string += \" {} {}\".format(operator[op_list[i]], var_list[i])\n",
    "    return Pauli_string"
   ]
  },
  {
   "cell_type": "markdown",
   "metadata": {},
   "source": [
    "## オブザーバブルの作成"
   ]
  },
  {
   "cell_type": "code",
   "execution_count": 3,
   "metadata": {},
   "outputs": [
    {
     "name": "stdout",
     "output_type": "stream",
     "text": [
      "(1, 'X 0 X 1')\n",
      "(1, 'Y 0 Y 1')\n",
      "(1, 'Z 0 Z 1')\n",
      "(1, 'X 1 X 2')\n",
      "(1, 'Y 1 Y 2')\n",
      "(1, 'Z 1 Z 2')\n",
      "(1, 'X 2 X 3')\n",
      "(1, 'Y 2 Y 3')\n",
      "(1, 'Z 2 Z 3')\n",
      "(1, 'X 3 X 0')\n",
      "(1, 'Y 3 Y 0')\n",
      "(1, 'Z 3 Z 0')\n",
      "(1, 'X 0 X 2')\n",
      "(1, 'Y 0 Y 2')\n",
      "(1, 'Z 0 Z 2')\n"
     ]
    }
   ],
   "source": [
    "n_bits = 4\n",
    "observable = Observable(n_bits)\n",
    "coeff = 1\n",
    "hamiltonian = []\n",
    "E = [(0, 1), (1, 2), (2, 3), (3, 0), (0, 2)]\n",
    "for (i, j) in E:\n",
    "    for a in range(1, 4):\n",
    "        var_list = [i, j]\n",
    "        op_list = [a, a]\n",
    "        Pauli_string = make_Pauli_string(op_list, var_list)\n",
    "        print((coeff, Pauli_string))\n",
    "        hamiltonian.append((coeff, op_list, var_list))\n",
    "        observable.add_operator(coeff, Pauli_string)"
   ]
  },
  {
   "cell_type": "markdown",
   "metadata": {},
   "source": [
    "以下の関数は`https://dojo.qulacs.org/ja/latest/notebooks/6.2_qulacs_VQE.html`から引用している。"
   ]
  },
  {
   "cell_type": "code",
   "execution_count": 4,
   "metadata": {},
   "outputs": [],
   "source": [
    "def cost(phi):\n",
    "    state = QuantumState(n_bits)\n",
    "    state.set_zero_state()\n",
    "    circuit = make_ansatz_circuit(phi, n_bits, E)\n",
    "    circuit.update_quantum_state(state)\n",
    "    return observable.get_expectation_value(state)"
   ]
  },
  {
   "cell_type": "code",
   "execution_count": 5,
   "metadata": {},
   "outputs": [],
   "source": [
    "def callback(phi):\n",
    "    global cost_val\n",
    "    cost_val.append(cost(phi))"
   ]
  },
  {
   "cell_type": "code",
   "execution_count": 6,
   "metadata": {},
   "outputs": [],
   "source": [
    "d = 5\n",
    "def make_ansatz_circuit(phi, n_bits, E, d=d):\n",
    "    circuit = QuantumCircuit(n_bits)\n",
    "    param_count = 0\n",
    "    for _ in range(d):\n",
    "        for n in range(n_bits):\n",
    "            circuit.add_gate(RX(n, phi[param_count]))\n",
    "            circuit.add_gate(RY(n, phi[param_count+1]))\n",
    "            circuit.add_gate(RZ(n, phi[param_count+2]))\n",
    "            param_count += 3\n",
    "        for i in range(n_bits//2):\n",
    "                circuit.add_gate(CZ(2*i, 2*i+1))\n",
    "                #circuit.add_gate(CNOT(2*i+1, 2*i+2))\n",
    "        for i in range(n_bits//2-1):\n",
    "                circuit.add_gate(CZ(2*i+1, 2*i+2))\n",
    "                #circuit.add_gate(CNOT(2*i+1, 2*i+2))\n",
    "    for n in range(n_bits):\n",
    "        circuit.add_gate(RX(n, phi[param_count]))\n",
    "        circuit.add_gate(RY(n, phi[param_count+1]))\n",
    "        circuit.add_gate(RZ(n, phi[param_count+2]))\n",
    "    return circuit"
   ]
  },
  {
   "cell_type": "code",
   "execution_count": 7,
   "metadata": {},
   "outputs": [],
   "source": [
    "from qulacs import ParametricQuantumCircuit\n",
    "from qulacs.gate import Pauli"
   ]
  },
  {
   "cell_type": "code",
   "execution_count": 8,
   "metadata": {},
   "outputs": [],
   "source": [
    "d = 1\n",
    "def make_ansatz_circuit(phi, n_bits, E, d=d):\n",
    "    circuit = ParametricQuantumCircuit(n_bits)\n",
    "    for _ in range(3):\n",
    "        for (i, j) in E:\n",
    "            target_list = [i, j]\n",
    "            for k in range(1, 4):\n",
    "                pauli_index = [k, k]\n",
    "                gate = Pauli(target_list, pauli_index)\n",
    "                circuit.add_gate(gate)\n",
    "    param_count = 0\n",
    "    for _ in range(d):\n",
    "        for (i, j) in E:\n",
    "            target_list = [i, j]\n",
    "            for k in range(1, 4):\n",
    "                pauli_index = [k, k]\n",
    "                circuit.add_parametric_multi_Pauli_rotation_gate(target_list, pauli_index, phi[param_count])\n",
    "                param_count += 1\n",
    "            circuit.add_gate(RX(i, phi[param_count]))\n",
    "            circuit.add_gate(RX(j, phi[param_count+1]))\n",
    "            circuit.add_gate(RZ(i, phi[param_count+2]))\n",
    "            circuit.add_gate(RZ(j, phi[param_count+3]))\n",
    "            param_count += 4\n",
    "        for i in range(n_bits//2):\n",
    "            circuit.add_gate(CZ(2*i, 2*i+1))\n",
    "            #circuit.add_gate(CNOT(2*i+1, 2*i+2))\n",
    "        for i in range(n_bits//2-1):\n",
    "            circuit.add_gate(CZ(2*i+1, 2*i+2))\n",
    "            #circuit.add_gate(CNOT(2*i+1, 2*i+2))\n",
    "    return circuit"
   ]
  },
  {
   "cell_type": "markdown",
   "metadata": {},
   "source": [
    "## 最適化の実行\n",
    "最適化された変分回路のパラメータは`phi_opt`に格納されている。"
   ]
  },
  {
   "cell_type": "code",
   "execution_count": 9,
   "metadata": {},
   "outputs": [
    {
     "data": {
      "image/png": "[encoded data removed]",
      "text/plain": [
       "<Figure size 432x288 with 1 Axes>"
      ]
     },
     "metadata": {
      "needs_background": "light"
     },
     "output_type": "display_data"
    },
    {
     "name": "stdout",
     "output_type": "stream",
     "text": [
      "time:0.9689254760742188\n",
      "VQE Energy: -6.999999999971106\n"
     ]
    }
   ],
   "source": [
    "n_params = len(E)*(3+4)*(d)\n",
    "np.random.seed(1111)\n",
    "phi = np.random.random(n_params)*2.0*np.pi\n",
    "#print(phi)\n",
    "cost_val = []\n",
    "callback(phi)\n",
    "start = time.time()\n",
    "#res = minimize(cost, phi, method='Powell', callback=callback)\n",
    "res = minimize(cost, phi, method='BFGS', callback=callback)\n",
    "end = time.time()\n",
    "\n",
    "plt.plot(cost_val)\n",
    "plt.xlabel(\"iteration\")\n",
    "plt.ylabel(\"energy expectation value\")\n",
    "plt.show()\n",
    "\n",
    "phi_opt = res.x\n",
    "print(\"time:{}\".format(end-start))\n",
    "print(\"VQE Energy: {}\".format(cost(phi_opt)))"
   ]
  },
  {
   "cell_type": "markdown",
   "metadata": {},
   "source": [
    "# 有効ハミルトニアンの作成"
   ]
  },
  {
   "cell_type": "markdown",
   "metadata": {},
   "source": [
    "有効ハミルトニアンを得るには次の演算子\n",
    "\\begin{align}\n",
    "W^{(i)}_k\\;\\dagger W^{(i)}_l\\;, \\;\\;\\; W^{(i)}_k\\;\\dagger \\mathcal{H}^{(i)}W^{(i)}_l, \\;\\;\\; W^{(i)}_k\\;\\dagger W^{(i)}_{\\mu} W^{(i)}_l\n",
    "\\end{align}\n",
    "の$|\\psi^{(i)}_0>$での期待値を計算する必要がある。"
   ]
  },
  {
   "cell_type": "markdown",
   "metadata": {},
   "source": [
    "### 演算子の変換\n",
    "同じビットに作用する演算子がオブザーバブル に複数含まれている場合はパウリ演算子の性質を用いて1つに縮約する。  \n",
    "例: $X_0 Y_0 = i Z_0$と変換する。  \n",
    "下では`pauli_ex[1, 2] = (i, 3)`を返す。"
   ]
  },
  {
   "cell_type": "code",
   "execution_count": 10,
   "metadata": {},
   "outputs": [
    {
     "name": "stdout",
     "output_type": "stream",
     "text": [
      "1 2 3\n",
      "2 3 1\n",
      "3 1 2\n"
     ]
    }
   ],
   "source": [
    "pauli_ex = {}\n",
    "pauli_ex[0, 0] = (1, 0)\n",
    "for i in range(1, 4):\n",
    "    a = i%3\n",
    "    b = (i+1)%3\n",
    "    c = (i+2)%3\n",
    "    if a == 0:\n",
    "        a = 3\n",
    "    if b == 0:\n",
    "        b = 3\n",
    "    if c == 0:\n",
    "        c = 3\n",
    "    print(a, b, c)\n",
    "    pauli_ex[a, b] = (0+1j, c)\n",
    "    pauli_ex[b, a] = (0-1j, c)\n",
    "    pauli_ex[a, 0] = (1, a)\n",
    "    pauli_ex[0, a] = (1, a)\n",
    "    pauli_ex[a, a] = (1, 0)"
   ]
  },
  {
   "cell_type": "code",
   "execution_count": 11,
   "metadata": {},
   "outputs": [
    {
     "data": {
      "text/plain": [
       "{(0, 0): (1, 0),\n",
       " (1, 2): (1j, 3),\n",
       " (2, 1): (-1j, 3),\n",
       " (1, 0): (1, 1),\n",
       " (0, 1): (1, 1),\n",
       " (1, 1): (1, 0),\n",
       " (2, 3): (1j, 1),\n",
       " (3, 2): (-1j, 1),\n",
       " (2, 0): (1, 2),\n",
       " (0, 2): (1, 2),\n",
       " (2, 2): (1, 0),\n",
       " (3, 1): (1j, 2),\n",
       " (1, 3): (-1j, 2),\n",
       " (3, 0): (1, 3),\n",
       " (0, 3): (1, 3),\n",
       " (3, 3): (1, 0)}"
      ]
     },
     "execution_count": 11,
     "metadata": {},
     "output_type": "execute_result"
    }
   ],
   "source": [
    "pauli_ex"
   ]
  },
  {
   "cell_type": "markdown",
   "metadata": {},
   "source": [
    "上の関係を用いて複数の演算子を縮約するための関数。  \n",
    "例: $X_0 Y_0 X_1 Z_1 = i*Z_0 * (-i)*Y_1$を変換する。  \n",
    "結果は全体の係数が`coeff`に、演算子の種類が`op_list_new`に、ビットのインデックスが`var_list_new`に格納されている。"
   ]
  },
  {
   "cell_type": "code",
   "execution_count": 12,
   "metadata": {},
   "outputs": [],
   "source": [
    "def contract_operators(op_list, var_list):\n",
    "    op_sep = {}\n",
    "    coeff = 1\n",
    "    for v in list(set(var_list)):\n",
    "        op_sep[v] = []\n",
    "    for i in range(len(op_list)):\n",
    "        op_sep[var_list[i]].append(op_list[i])\n",
    "    op_list_new = []\n",
    "    var_list_new = []\n",
    "    for v, op in op_sep.items():\n",
    "        #print(op)\n",
    "        if len(op) == 1:\n",
    "            op_list_new.extend(op)\n",
    "            var_list_new.append(v)\n",
    "        else:\n",
    "            while len(op) > 1:\n",
    "                op1 = op[0]\n",
    "                op2 = op[1]\n",
    "                (coeff3, op3) = pauli_ex[op1, op2]\n",
    "                #print(op1, op2, op3)\n",
    "                coeff *= coeff3\n",
    "                op = op[1:]\n",
    "                op[0] = op3\n",
    "            op_list_new.extend(op)\n",
    "            var_list_new.append(v)\n",
    "    return coeff, op_list_new, var_list_new"
   ]
  },
  {
   "cell_type": "code",
   "execution_count": 13,
   "metadata": {},
   "outputs": [
    {
     "data": {
      "text/plain": [
       "((1+0j), [3, 2], [0, 1])"
      ]
     },
     "execution_count": 13,
     "metadata": {},
     "output_type": "execute_result"
    }
   ],
   "source": [
    "op_list = [1, 2, 1, 3]\n",
    "var_list = [0, 0, 1, 1]\n",
    "contract_operators(op_list, var_list)"
   ]
  },
  {
   "cell_type": "markdown",
   "metadata": {},
   "source": [
    "## WW, WHW, WVWの計算"
   ]
  },
  {
   "cell_type": "code",
   "execution_count": 14,
   "metadata": {},
   "outputs": [],
   "source": [
    "K = 7\n",
    "n_bits = 4\n",
    "W_op = [0, 1, 2, 3, 1, 2, 3]\n",
    "W_var = [0, 0, 0, 0, 2, 2, 2]\n",
    "V_op = [1, 2, 3, 1, 2, 3]\n",
    "V_var = [0, 0, 0, 2, 2, 2]\n",
    "WW = np.zeros((K, K)).astype(complex)\n",
    "WHW = np.zeros((K, K)).astype(complex)\n",
    "WVW = np.zeros((K-1, K, K)).astype(complex)\n",
    "\n",
    "# 部分系のハミルトニアンの基底状態を作り出す。\n",
    "state = QuantumState(n_bits)\n",
    "state.set_zero_state()\n",
    "circuit = make_ansatz_circuit(phi_opt, n_bits, E)\n",
    "circuit.update_quantum_state(state)\n",
    "\n",
    "for i in range(K):\n",
    "    for j in range(K):\n",
    "        # WW\n",
    "        op_list = [W_op[i], W_op[j]]\n",
    "        var_list = [W_var[i], W_var[j]]\n",
    "        coeff, op_list, var_list = contract_operators(op_list, var_list)\n",
    "        Pauli_string = make_Pauli_string(op_list, var_list)\n",
    "        #print(coeff, Pauli_string)\n",
    "        obs = Observable(n_bits)\n",
    "        obs.add_operator(1, Pauli_string)\n",
    "        WW[i][j] = coeff * obs.get_expectation_value(state)\n",
    "        \n",
    "        # WHW\n",
    "        for (coeff, op_list_h, var_list_h) in hamiltonian:\n",
    "            op_list = [W_op[i]]\n",
    "            op_list.extend(op_list_h)\n",
    "            op_list.append(W_op[j])\n",
    "            var_list = [W_var[i]]\n",
    "            var_list.extend(var_list_h)\n",
    "            var_list.append(W_var[j])\n",
    "            coeff, op_list, var_list = contract_operators(op_list, var_list)\n",
    "            Pauli_string = make_Pauli_string(op_list, var_list)\n",
    "            obs = Observable(n_bits)\n",
    "            obs.add_operator(1, Pauli_string)\n",
    "            WHW[i][j] += coeff * obs.get_expectation_value(state)\n",
    "        \n",
    "        #WVW\n",
    "        for k in range(K-1):\n",
    "            op_list = [W_op[i], V_op[k], W_op[j]]\n",
    "            var_list = [W_var[i], V_var[k], W_var[j]]\n",
    "            coeff, op_list, var_list = contract_operators(op_list, var_list)\n",
    "            Pauli_string = make_Pauli_string(op_list, var_list)\n",
    "            obs = Observable(n_bits)\n",
    "            obs.add_operator(1, Pauli_string)\n",
    "            WVW[k][i][j] = coeff * obs.get_expectation_value(state)"
   ]
  },
  {
   "cell_type": "markdown",
   "metadata": {},
   "source": [
    "## Pの計算\n",
    "Pの各成分に$|\\psi^{(i)}_k>$の係数が格納されている。"
   ]
  },
  {
   "cell_type": "code",
   "execution_count": 15,
   "metadata": {},
   "outputs": [],
   "source": [
    "P = np.zeros((K, K)).astype(complex)\n",
    "for i in range(K):\n",
    "    P[i][i] = 1.0\n",
    "    for j in range(i):\n",
    "        coeff = 0\n",
    "        for k in range(K):\n",
    "            coeff += P[j][k] * WW[k][i]\n",
    "        #print(i, j, coeff, P[j])\n",
    "        P[i] -= coeff * P[j]\n",
    "    C = 0\n",
    "    for k in range(K):\n",
    "        for l in range(K):\n",
    "            C += P[i][k] * P[i][l] * WW[k][l]\n",
    "    P[i] *= 1.0/np.sqrt(np.abs(C))"
   ]
  },
  {
   "cell_type": "markdown",
   "metadata": {},
   "source": [
    "正規直行化されていることの確認"
   ]
  },
  {
   "cell_type": "code",
   "execution_count": 16,
   "metadata": {},
   "outputs": [
    {
     "name": "stdout",
     "output_type": "stream",
     "text": [
      "[[1. 0. 0. 0. 0. 0. 0.]\n",
      " [0. 1. 0. 0. 0. 0. 0.]\n",
      " [0. 0. 1. 0. 0. 0. 0.]\n",
      " [0. 0. 0. 1. 0. 0. 0.]\n",
      " [0. 0. 0. 0. 1. 0. 0.]\n",
      " [0. 0. 0. 0. 0. 1. 0.]\n",
      " [0. 0. 0. 0. 0. 0. 1.]]\n"
     ]
    }
   ],
   "source": [
    "norm = np.zeros((K, K))\n",
    "for k in range(K):\n",
    "    for l in range(K):\n",
    "        n = 0\n",
    "        for i in range(K):\n",
    "            for j in range(K):\n",
    "                n += P[k][i] * P[l][j] * WW[i][j]\n",
    "        if np.abs(n) <= 1e-5:\n",
    "            n = 0\n",
    "        norm[k][l] = np.abs(n)\n",
    "print(norm)"
   ]
  },
  {
   "cell_type": "markdown",
   "metadata": {},
   "source": [
    "## 新しい局所基底(正規直交基底)と量子ビットを対応させる。  \n",
    "各部分系に対して3量子ビットずつ準備する。"
   ]
  },
  {
   "cell_type": "code",
   "execution_count": 17,
   "metadata": {},
   "outputs": [
    {
     "name": "stdout",
     "output_type": "stream",
     "text": [
      "Subsystem 0\n",
      "0 000\n",
      "1 001\n",
      "2 010\n",
      "3 011\n",
      "4 100\n",
      "5 101\n",
      "6 110\n",
      "Subsystem 1\n",
      "7 000\n",
      "8 001\n",
      "9 010\n",
      "10 011\n",
      "11 100\n",
      "12 101\n",
      "13 110\n"
     ]
    }
   ],
   "source": [
    "K = 7\n",
    "n_bits_new = int(np.ceil(np.log2(K)))\n",
    "psi = {}\n",
    "print(\"Subsystem 0\")\n",
    "for i in range(K):\n",
    "    psi[i] = format(i, '0{}b'.format(n_bits_new))\n",
    "    print(i, format(i, '0{}b'.format(n_bits_new)))\n",
    "print(\"Subsystem 1\")\n",
    "for i in range(K):\n",
    "    psi[i+K] = format(i, '0{}b'.format(n_bits_new))\n",
    "    print(i+K, format(i, '0{}b'.format(n_bits_new)))\n",
    "#print(psi)"
   ]
  },
  {
   "cell_type": "markdown",
   "metadata": {},
   "source": [
    "## 射影演算子と量子ゲートを対応させる。"
   ]
  },
  {
   "cell_type": "code",
   "execution_count": 18,
   "metadata": {},
   "outputs": [],
   "source": [
    "def get_projection(i, j, bit, K, sub_idx):\n",
    "    # | i >|< j | _{bit} \n",
    "    bit += int(np.ceil(np.log2(K))) * sub_idx\n",
    "    op_list = []\n",
    "    coeff_op_list = []\n",
    "    if (i, j) == (0, 0):\n",
    "        coeff_op_list.append((0.5, 0)) #0.5 * I\n",
    "        coeff_op_list.append((0.5, 3)) # 0.5 * Z\n",
    "    elif (i, j) == (1, 1):\n",
    "        coeff_op_list.append((0.5, 0)) # 0.5 * I\n",
    "        coeff_op_list.append((-0.5, 3)) # -0.5 * Z\n",
    "    elif (i, j) == (0, 1):\n",
    "        coeff_op_list.append((0.5, 1)) # 0.5 * X\n",
    "        coeff_op_list.append((0.5j, 2)) # -0.5 * XZ = 0.5i * Y\n",
    "    elif (i, j) == (1, 0):\n",
    "        coeff_op_list.append((0.5, 1)) # 0.5 * X\n",
    "        coeff_op_list.append((-0.5j, 2)) # 0.5 * XZ = -0.5i * Y\n",
    "    return coeff_op_list"
   ]
  },
  {
   "cell_type": "code",
   "execution_count": 19,
   "metadata": {},
   "outputs": [],
   "source": [
    "def get_local_basis_operator(psi1, psi2, K, sub_idx=0):\n",
    "    bit_num = int(np.ceil(np.log2(K)))\n",
    "    coeff_op_list = []\n",
    "    for i in range(bit_num):\n",
    "        coeff_op_list_temp = get_projection(int(psi1[i]), int(psi2[i]), i, K, sub_idx)\n",
    "        coeff_op_list.append(coeff_op_list_temp)\n",
    "    res = []\n",
    "    for i in range(2):\n",
    "        for j in range(2):\n",
    "            for k in range(2):\n",
    "                #coeff = op_list[0][i][0] * op_list[1][j][0] * op_list[2][k][0]\n",
    "                #op = op_list[0][i][1] + \" \" +  op_list[1][j][1] + \" \" +  op_list[2][k][1]\n",
    "                coeff = coeff_op_list[0][i][0] * coeff_op_list[1][j][0] * coeff_op_list[2][k][0]\n",
    "                op = [coeff_op_list[0][i][1], coeff_op_list[1][j][1],  coeff_op_list[2][k][1]]\n",
    "                res.append((coeff, op))\n",
    "    return res"
   ]
  },
  {
   "cell_type": "markdown",
   "metadata": {},
   "source": [
    "# 有効ハミルトニアンの作成\n",
    "\n",
    "## 部分系の有効ハミルトニアン"
   ]
  },
  {
   "cell_type": "code",
   "execution_count": 20,
   "metadata": {},
   "outputs": [],
   "source": [
    "def make_H_eff_i(WHW, P, K, ham_eff, num_sub=2):\n",
    "    H_eff_i = np.dot(P.conjugate(), np.dot(WHW, P.T))\n",
    "    H_eff_i_list = []\n",
    "    for sub_idx in range(num_sub):\n",
    "        for k in range(K):\n",
    "            for l in range(K):\n",
    "                coeff_op_list = get_local_basis_operator(psi[k], psi[l], K, sub_idx)\n",
    "                for coeff, op_list in coeff_op_list:\n",
    "                    op0 = op_list[0]\n",
    "                    op1 = op_list[1]\n",
    "                    op2 = op_list[2]\n",
    "                    if sub_idx == 0:\n",
    "                        var = (0, 1, 2)\n",
    "                    else:\n",
    "                        var = (3, 4, 5)\n",
    "                    op_idx = (op0, op1, op2)\n",
    "                    idx = (op_idx, var)\n",
    "                    if idx not in ham_eff.keys():\n",
    "                         ham_eff[idx] = H_eff_i[k][l]*coeff\n",
    "                    else:\n",
    "                        ham_eff[idx] += H_eff_i[k][l]*coeff\n",
    "    return ham_eff\n",
    "ham_eff = {}\n",
    "ham_eff = make_H_eff_i(WHW, P, K, ham_eff)"
   ]
  },
  {
   "cell_type": "markdown",
   "metadata": {},
   "source": [
    "## 相互作用の有効ハミルトニアン"
   ]
  },
  {
   "cell_type": "code",
   "execution_count": 21,
   "metadata": {},
   "outputs": [],
   "source": [
    "def make_V_eff(WVW, P, K, v_eff):\n",
    "    WVW_ = np.zeros((K-1, K, K)).astype(complex)\n",
    "    for k in range(K-1):\n",
    "        WVW_[k] = np.dot(P.conjugate(), np.dot(WVW[k], P.T))\n",
    "    V_eff_list = []\n",
    "    V_eff = np.zeros((K, K, K, K)).astype(complex)\n",
    "    for i in range(K):\n",
    "        for j in range(K):\n",
    "            coeff_op_list1 = get_local_basis_operator(psi[i], psi[j], K, 0)\n",
    "            for k in range(K):\n",
    "                for l in range(K):\n",
    "                    coeff_op_list2 = get_local_basis_operator(psi[k+K], psi[l+K], K, 1)\n",
    "                    coeff = 0\n",
    "                    for m in range(K//2):\n",
    "                        coeff += WVW_[m][i][j] * WVW_[m+K//2][k][l]\n",
    "                        #coeff += WVW_[m+K//2][i][j] * WVW_[m][k][l]\n",
    "                    for (coeff1, op_list1) in coeff_op_list1:\n",
    "                        for (coeff2, op_list2) in coeff_op_list2:\n",
    "                            coeff_ = coeff*coeff1*coeff2\n",
    "                            op0 = op_list1[0]\n",
    "                            op1 = op_list1[1]\n",
    "                            op2 = op_list1[2]\n",
    "                            op3 = op_list2[0]\n",
    "                            op4 = op_list2[1]\n",
    "                            op5 = op_list2[2]\n",
    "                            op_idx = (op0, op1, op2, op3, op4, op5)\n",
    "                            if op_idx not in v_eff.keys():\n",
    "                                v_eff[op_idx] = coeff_\n",
    "                            else:\n",
    "                                v_eff[op_idx] += coeff_   \n",
    "                    V_eff[i][j][k][l] = coeff\n",
    "    return v_eff, V_eff, WVW_\n",
    "v_eff = {}\n",
    "v_eff, V_eff, WVW_ = make_V_eff(WVW, P, K, v_eff)\n",
    "for op, coeff in v_eff.items():\n",
    "    if coeff.imag > 1e-6:\n",
    "        print(op, coeff)"
   ]
  },
  {
   "cell_type": "markdown",
   "metadata": {},
   "source": [
    "## オブザーバブルの定義"
   ]
  },
  {
   "cell_type": "code",
   "execution_count": 22,
   "metadata": {},
   "outputs": [],
   "source": [
    "n_bits = int(np.ceil(np.log2(K))) * 2\n",
    "observable = Observable(n_bits)\n",
    "for (op_list, var_list), coeff in ham_eff.items():\n",
    "    #coeff_, op_list, var_list = contract_operators(op_list, var_list)\n",
    "    #print(coeff_)\n",
    "    Pauli_string = make_Pauli_string(op_list, var_list)\n",
    "    #observable.add_operator(coeff.real*coeff_, Pauli_string)\n",
    "    observable.add_operator(coeff.real, Pauli_string)\n",
    "\n",
    "var_list = [i for i in range(n_bits)]\n",
    "for op_list, coeff in v_eff.items():\n",
    "    #coeff_, op_list, var_list = contract_operators(op_list, var_list)\n",
    "    #print(coeff_)\n",
    "    Pauli_string = make_Pauli_string(op_list, var_list)\n",
    "    #print(op_list, Pauli_string)\n",
    "    observable.add_operator(coeff.real, Pauli_string)"
   ]
  },
  {
   "cell_type": "code",
   "execution_count": 23,
   "metadata": {},
   "outputs": [],
   "source": [
    "def cost(phi):\n",
    "    state = QuantumState(n_bits)\n",
    "    state.set_zero_state()\n",
    "    circuit = make_ansatz_circuit(phi, n_bits, E)\n",
    "    circuit.update_quantum_state(state)\n",
    "    return observable.get_expectation_value(state)"
   ]
  },
  {
   "cell_type": "code",
   "execution_count": 24,
   "metadata": {},
   "outputs": [],
   "source": [
    "E = []\n",
    "for i in range(n_bits):\n",
    "    for j in range(i):\n",
    "        #print((i, j))\n",
    "        E.append((i, j))\n",
    "d = 1\n",
    "def make_ansatz_circuit(phi, n_bits, E, d=d):\n",
    "    circuit = ParametricQuantumCircuit(n_bits)\n",
    "    for _ in range(3):\n",
    "        for (i, j) in E:\n",
    "            target_list = [i, j]\n",
    "            for k in range(1, 4):\n",
    "                pauli_index = [k, k]\n",
    "                gate = Pauli(target_list, pauli_index)\n",
    "                circuit.add_gate(gate)\n",
    "    param_count = 0\n",
    "    for _ in range(d):\n",
    "        for (i, j) in E:\n",
    "            target_list = [i, j]\n",
    "            for k in range(1, 4):\n",
    "                pauli_index = [k, k]\n",
    "                circuit.add_parametric_multi_Pauli_rotation_gate(target_list, pauli_index, phi[param_count])\n",
    "                param_count += 1\n",
    "            circuit.add_gate(RX(i, phi[param_count]))\n",
    "            circuit.add_gate(RX(j, phi[param_count+1]))\n",
    "            circuit.add_gate(RZ(i, phi[param_count+2]))\n",
    "            circuit.add_gate(RZ(j, phi[param_count+3]))\n",
    "            param_count += 4\n",
    "        for i in range(n_bits//2):\n",
    "            circuit.add_gate(CZ(2*i, 2*i+1))\n",
    "            #circuit.add_gate(CNOT(2*i+1, 2*i+2))\n",
    "        for i in range(n_bits//2-1):\n",
    "            circuit.add_gate(CZ(2*i+1, 2*i+2))\n",
    "            #circuit.add_gate(CNOT(2*i+1, 2*i+2))\n",
    "    return circuit"
   ]
  },
  {
   "cell_type": "code",
   "execution_count": 25,
   "metadata": {},
   "outputs": [
    {
     "data": {
      "image/png": "[encoded data removed]",
      "text/plain": [
       "<Figure size 432x288 with 1 Axes>"
      ]
     },
     "metadata": {
      "needs_background": "light"
     },
     "output_type": "display_data"
    },
    {
     "name": "stdout",
     "output_type": "stream",
     "text": [
      "Time:459.7542567253113\n",
      "VQE Energy: -14.464101611986557\n"
     ]
    }
   ],
   "source": [
    "n_params = len(E) * (3 + 4) * d\n",
    "np.random.seed(1111)\n",
    "cost_val = []\n",
    "phi = np.random.random(n_params)*2.0*np.pi\n",
    "#print(phi)\n",
    "callback(phi)\n",
    "start = time.time()\n",
    "#res = minimize(cost, phi, method='Powell', callback=callback)\n",
    "res = minimize(cost, phi, method='BFGS', callback=callback)\n",
    "end = time.time()\n",
    "\n",
    "plt.plot(cost_val)\n",
    "plt.xlabel(\"iteration\")\n",
    "plt.ylabel(\"energy expectation value\")\n",
    "plt.show()\n",
    "\n",
    "phi_opt_new = res.x\n",
    "print(\"Time:{}\".format(end-start))\n",
    "print(\"VQE Energy: {}\".format(cost(phi_opt_new)))"
   ]
  },
  {
   "cell_type": "markdown",
   "metadata": {},
   "source": [
    "# 行列要素の検算\n",
    "有効ハミルトニアンと相互作用のハミルトニアンを合わせた行列要素を作り対角化することでVQEを使わなかった場合と検算する。"
   ]
  },
  {
   "cell_type": "code",
   "execution_count": 26,
   "metadata": {},
   "outputs": [],
   "source": [
    "local_basis = [(i, j) for i in range(K) for j in range(K)]\n",
    "H_eff_i = np.dot(P, np.dot(WHW, P.T))\n",
    "H_eff = np.zeros((K*K, K*K)).astype(complex)\n",
    "for i in range(K*K):\n",
    "    for j in range(K*K):\n",
    "        (k, l) = local_basis[i]\n",
    "        (m, n) = local_basis[j]\n",
    "        delta1 = (k==m)\n",
    "        delta2 = (l==n)\n",
    "        H_eff[i, j] = H_eff_i[k, m]*delta2 + H_eff_i[l, n]*delta1  + V_eff[k][m][l][n]"
   ]
  },
  {
   "cell_type": "code",
   "execution_count": 27,
   "metadata": {},
   "outputs": [
    {
     "data": {
      "text/plain": [
       "(-14.464101615113696+1.1514572661238537e-13j)"
      ]
     },
     "execution_count": 27,
     "metadata": {},
     "output_type": "execute_result"
    }
   ],
   "source": [
    "np.min(np.linalg.eig(H_eff)[0])"
   ]
  },
  {
   "cell_type": "code",
   "execution_count": null,
   "metadata": {},
   "outputs": [],
   "source": []
  }
 ],
 "metadata": {
  "kernelspec": {
   "display_name": "Python 3",
   "language": "python",
   "name": "python3"
  },
  "language_info": {
   "codemirror_mode": {
    "name": "ipython",
    "version": 3
   },
   "file_extension": ".py",
   "mimetype": "text/x-python",
   "name": "python",
   "nbconvert_exporter": "python",
   "pygments_lexer": "ipython3",
   "version": "3.6.7"
  }
 },
 "nbformat": 4,
 "nbformat_minor": 2
}
