{
 "cells": [
  {
   "cell_type": "markdown",
   "metadata": {},
   "source": [
    "# ハミルトニアン (N=2)\n",
    "\n",
    "![hamiltonian(3a,N=2)](./Figures/3a_N2.png)\n",
    "\n",
    "\\begin{align}\n",
    "\\mathcal{H} = \\sum^{1}_{i=0}\\mathcal{H}_i + \\sum_{(i, j)=(2, 4), (0, 6)}V_{ij}\n",
    "\\end{align}\n",
    "\n",
    "\\begin{align}\n",
    "\\mathcal{H}_i &= \\sum_{(j, k) \\in E}\\sum_{A=X,Y,Z}A_{j}A_{k} \\\\\n",
    "V_{ij} &= \\sum_{A=X,Y,Z}A_{i}A_{j}\n",
    "\\end{align}\n",
    "\n",
    "上の図で黒い線で繋がった格子が部分系$\\mathcal{H}_i$で赤い線が相互作用$V_{ij}$をそれぞれ表している。  "
   ]
  },
  {
   "cell_type": "code",
   "execution_count": 1,
   "metadata": {},
   "outputs": [],
   "source": [
    "from qulacs.gate import Pauli\n",
    "from qulacs.gate import Identity, X, Y, Z, to_matrix_gate\n",
    "import numpy as np"
   ]
  },
  {
   "cell_type": "markdown",
   "metadata": {},
   "source": [
    "http://docs.qulacs.org/ja/latest/guide/2.0_python_advanced.html"
   ]
  },
  {
   "cell_type": "markdown",
   "metadata": {},
   "source": [
    "# 厳密対角化で解く場合\n",
    "ハミルトニアンを分割せずに解く場合"
   ]
  },
  {
   "cell_type": "code",
   "execution_count": 2,
   "metadata": {},
   "outputs": [],
   "source": [
    "n_bits = 8\n",
    "h_dim = pow(2, n_bits)\n",
    "H = np.zeros((h_dim , h_dim )).astype(complex)\n",
    "E = [(0, 1), (1, 2), (2, 3), (3, 0), (0, 2)]\n",
    "for s in range(2):\n",
    "    for (i, j) in E:\n",
    "        target_list = [b for b in range(n_bits)]\n",
    "        for k in range(1, 4):\n",
    "            pauli_index = [0 for b in range(n_bits)]\n",
    "            pauli_index[i+s*n_bits//2] = k\n",
    "            pauli_index[j+s*n_bits//2] = k\n",
    "            gate = Pauli(target_list, pauli_index)\n",
    "            H += gate.get_matrix()\n",
    "(i, j) = (2, 4)\n",
    "target_list = [b for b in range(n_bits)]\n",
    "for k in range(1, 4):\n",
    "    pauli_index = [0 for b in range(n_bits)]\n",
    "    pauli_index[i] = k\n",
    "    pauli_index[j] = k\n",
    "    gate = Pauli(target_list, pauli_index)\n",
    "    H += gate.get_matrix()"
   ]
  },
  {
   "cell_type": "markdown",
   "metadata": {},
   "source": [
    "### 対角化の実行"
   ]
  },
  {
   "cell_type": "code",
   "execution_count": 3,
   "metadata": {},
   "outputs": [
    {
     "name": "stdout",
     "output_type": "stream",
     "text": [
      "Ground State Energy: (-14.464101615137706-1.6875949499599427e-24j)\n"
     ]
    }
   ],
   "source": [
    "Evals, Evecs = np.linalg.eig(H)\n",
    "State = np.transpose(Evecs)\n",
    "gs = State[np.argmin(Evals)]\n",
    "print(\"Ground State Energy: {}\".format(min(Evals)))"
   ]
  },
  {
   "cell_type": "markdown",
   "metadata": {},
   "source": [
    "# 有効ハミルトニアンを対角化で解く場合\n",
    "VQEの代わりに行列を直接対角化して基底状態を求める。  \n",
    "`gs`に基底状態のベクトルが格納されている。 "
   ]
  },
  {
   "cell_type": "markdown",
   "metadata": {},
   "source": [
    "## 部分系の対角化"
   ]
  },
  {
   "cell_type": "code",
   "execution_count": 4,
   "metadata": {},
   "outputs": [],
   "source": [
    "n_bits = 4\n",
    "h_dim = pow(2, n_bits)\n",
    "H = np.zeros((h_dim , h_dim )).astype(complex)\n",
    "E = [(0, 1), (1, 2), (2, 3), (3, 0), (0, 2)]\n",
    "for (i, j) in E:\n",
    "    target_list = [b for b in range(n_bits)]\n",
    "    for k in range(1, 4):\n",
    "        pauli_index = [0 for b in range(n_bits)]\n",
    "        pauli_index[i] = k\n",
    "        pauli_index[j] = k\n",
    "        gate = Pauli(target_list, pauli_index)\n",
    "        H += gate.get_matrix()"
   ]
  },
  {
   "cell_type": "markdown",
   "metadata": {},
   "source": [
    "### 対角化の実行"
   ]
  },
  {
   "cell_type": "code",
   "execution_count": 5,
   "metadata": {},
   "outputs": [
    {
     "name": "stdout",
     "output_type": "stream",
     "text": [
      "Ground State Energy: (-7+0j)\n"
     ]
    }
   ],
   "source": [
    "Evals, Evecs = np.linalg.eig(H)\n",
    "State = np.transpose(Evecs)\n",
    "gs = State[np.argmin(Evals)]\n",
    "print(\"Ground State Energy: {}\".format(min(Evals)))"
   ]
  },
  {
   "cell_type": "markdown",
   "metadata": {},
   "source": [
    "## 局所基底の作成\n",
    "`psi`はWを`gs`に作用させて作った基底である。  \n",
    "この基底をグラムシュミットの直交化法により正規直交基底に変換したものが`psi_norm`である。"
   ]
  },
  {
   "cell_type": "code",
   "execution_count": 6,
   "metadata": {},
   "outputs": [],
   "source": [
    "W = []\n",
    "# Identity Matrix\n",
    "target_list = [b for b in range(n_bits)]\n",
    "pauli_index = [0 for b in range(n_bits)]\n",
    "W.append(Pauli(target_list, pauli_index).get_matrix())\n",
    "for i in [0, 2]:\n",
    "    target_list = [b for b in range(n_bits)]\n",
    "    for j in range(1, 4):\n",
    "        pauli_index = [0 for b in range(n_bits)]\n",
    "        pauli_index[i] = j\n",
    "        W.append(Pauli(target_list, pauli_index).get_matrix())\n",
    "K = len(W)"
   ]
  },
  {
   "cell_type": "code",
   "execution_count": 7,
   "metadata": {},
   "outputs": [],
   "source": [
    "psi = []\n",
    "for i in range(K):\n",
    "    psi.append(W[i] @ gs)\n",
    "h_dim = pow(2, n_bits)\n",
    "psi_norm = np.zeros((K, h_dim)).astype(complex)\n",
    "for i in range(K):\n",
    "    psi_norm[i]+= psi[i]\n",
    "    for j in range(i):\n",
    "        psi_norm[i] -= (psi_norm[j].conjugate() @ psi[i]) * psi_norm[j]\n",
    "    psi_norm[i] *= 1.0/(np.sqrt(psi_norm[i].conjugate() @ psi_norm[i]))"
   ]
  },
  {
   "cell_type": "code",
   "execution_count": 8,
   "metadata": {},
   "outputs": [],
   "source": [
    "WW = np.zeros((K, K)).astype(complex)\n",
    "for i in range(K):\n",
    "    for j in range(K):\n",
    "        WW[i][j] = psi[i].conjugate() @ psi[j]"
   ]
  },
  {
   "cell_type": "markdown",
   "metadata": {},
   "source": [
    "### 正規直行化されているかの確認"
   ]
  },
  {
   "cell_type": "code",
   "execution_count": 9,
   "metadata": {},
   "outputs": [
    {
     "name": "stdout",
     "output_type": "stream",
     "text": [
      "[[1. 0. 0. 0. 0. 0. 0.]\n",
      " [0. 1. 0. 0. 0. 0. 0.]\n",
      " [0. 0. 1. 0. 0. 0. 0.]\n",
      " [0. 0. 0. 1. 0. 0. 0.]\n",
      " [0. 0. 0. 0. 1. 0. 0.]\n",
      " [0. 0. 0. 0. 0. 1. 0.]\n",
      " [0. 0. 0. 0. 0. 0. 1.]]\n"
     ]
    }
   ],
   "source": [
    "norm = np.zeros((K, K))\n",
    "for i in range(K):\n",
    "    for j in range(K):\n",
    "        coeff = psi_norm[i].conjugate() @ psi_norm[j]\n",
    "        coeff = abs(coeff)\n",
    "        if coeff <1e-5:\n",
    "            coeff = 0\n",
    "        norm[i, j] = coeff\n",
    "print(norm)"
   ]
  },
  {
   "cell_type": "markdown",
   "metadata": {},
   "source": [
    "## 部分系の有効ハミルトニアンの作成\n",
    "`psi_norm`で`H`の行列要素を計算したものが`H_eff_i`である。"
   ]
  },
  {
   "cell_type": "code",
   "execution_count": 10,
   "metadata": {},
   "outputs": [],
   "source": [
    "H_eff_i = np.zeros((K, K)).astype(complex)\n",
    "H_bar_i = np.zeros((K, K)).astype(complex)\n",
    "for i in range(K):\n",
    "    for j in range(K):\n",
    "        #H_eff_i[i, j] = np.dot(psi_norm[i].conjugate(), np.dot(H, psi_norm[j]))\n",
    "        H_eff_i[i, j] = psi_norm[i].conjugate() @ H @ psi_norm[j]\n",
    "        #H_bar_i[i, j] = np.dot(psi[i].conjugate(), np.dot(H, psi[j]))\n",
    "        H_bar_i[i, j] = psi[i].conjugate() @ H @ psi[j]"
   ]
  },
  {
   "cell_type": "markdown",
   "metadata": {},
   "source": [
    "### 対角化の実行"
   ]
  },
  {
   "cell_type": "code",
   "execution_count": 11,
   "metadata": {},
   "outputs": [
    {
     "name": "stdout",
     "output_type": "stream",
     "text": [
      "Ground State Energy: (-7+0j)\n"
     ]
    }
   ],
   "source": [
    "Evals, Evecs = np.linalg.eig(H_bar_i)\n",
    "State = np.transpose(Evecs)\n",
    "gs = State[np.argmin(Evals)]\n",
    "print(\"Ground State Energy: {}\".format(min(Evals)))"
   ]
  },
  {
   "cell_type": "markdown",
   "metadata": {},
   "source": [
    "## 相互作用の有効ハミルトニアン\n",
    "`psi_norm`で`W`の行列要素を計算したものが`Vk`に格納されている。  \n",
    "これを元に相互作用の有効ハミルトニアン`V_eff`を計算している。"
   ]
  },
  {
   "cell_type": "code",
   "execution_count": 12,
   "metadata": {},
   "outputs": [],
   "source": [
    "WVW = np.zeros((K-1, K, K)).astype(complex)\n",
    "WVW_ = np.zeros((K-1, K, K)).astype(complex)\n",
    "for k in range(K-1):\n",
    "    for i in range(K):\n",
    "        for j in range(K):\n",
    "            WVW[k][i][j] = np.dot(psi_norm[i].conjugate(), np.dot(W[k+1], psi_norm[j]))\n",
    "            WVW_[k][i][j] = np.dot(psi[i].conjugate(),  np.dot(W[k+1], psi[j]))\n",
    "V_eff = np.zeros((K, K, K, K)).astype(complex)\n",
    "for i in range(K):\n",
    "    for j in range(K):\n",
    "        for k in range(K):\n",
    "            for l in range(K):\n",
    "                coeff = 0\n",
    "                for m in range(K//2):\n",
    "                    coeff += WVW[m][i][j] * WVW[m+K//2][k][l]\n",
    "                    #coeff += WVW[m+K//2][i][j] * WVW[m][k][l]\n",
    "                V_eff[i][j][k][l] = coeff"
   ]
  },
  {
   "cell_type": "markdown",
   "metadata": {},
   "source": [
    "## 全体の有効ハミルトニアンの作成\n",
    "2つの部分系をまとめると必要な基底はK*K個になる。  \n",
    "この基底を使って全体の有効ハミルトニアンの行列要素`H_eff`を計算する。"
   ]
  },
  {
   "cell_type": "code",
   "execution_count": 13,
   "metadata": {},
   "outputs": [],
   "source": [
    "local_basis = [(i, j) for i in range(K) for j in range(K)]\n",
    "H_eff = np.zeros((K*K, K*K)).astype(complex)\n",
    "for i in range(K*K):\n",
    "    for j in range(K*K):\n",
    "        (k, l) = local_basis[i]\n",
    "        (m, n) = local_basis[j]\n",
    "        delta1 = (k==m)\n",
    "        delta2 = (l==n)\n",
    "        H_eff[i, j] = H_eff_i[k, m]*delta2 + H_eff_i[l, n]*delta1 + V_eff[k][m][l][n]"
   ]
  },
  {
   "cell_type": "markdown",
   "metadata": {},
   "source": [
    "### 対角化の実行"
   ]
  },
  {
   "cell_type": "code",
   "execution_count": 14,
   "metadata": {},
   "outputs": [
    {
     "name": "stdout",
     "output_type": "stream",
     "text": [
      "Ground State Energy: (-14.464101615137757+0j)\n"
     ]
    }
   ],
   "source": [
    "Evals, Evecs = np.linalg.eig(H_eff)\n",
    "State = np.transpose(Evecs)\n",
    "gs = State[np.argmin(Evals)]\n",
    "print(\"Ground State Energy: {}\".format(min(Evals)))"
   ]
  }
 ],
 "metadata": {
  "kernelspec": {
   "display_name": "Python 3",
   "language": "python",
   "name": "python3"
  },
  "language_info": {
   "codemirror_mode": {
    "name": "ipython",
    "version": 3
   },
   "file_extension": ".py",
   "mimetype": "text/x-python",
   "name": "python",
   "nbconvert_exporter": "python",
   "pygments_lexer": "ipython3",
   "version": "3.6.7"
  }
 },
 "nbformat": 4,
 "nbformat_minor": 2
}
